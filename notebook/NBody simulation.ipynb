{
 "cells": [
  {
   "cell_type": "markdown",
   "metadata": {},
   "source": [
    "Gravitational instability\n",
    "===\n",
    "\n",
    "The equations that gouvern the distribution of matter in the Universe are given by Newtons law for gravity. We assume gravity is the sole force responsible for forming strunctures in the Universe and that relativistic effects play a minor role. Moreover we will assume that this process is dominated by _dark matter_. The Newtonian field equation for gravity is the Poisson equation\n",
    "\n",
    "$$\\nabla^2 \\Phi = 4 \\pi G \\rho.$$\n",
    "\n",
    "However, in an expanding Universe this equation changes slightly to\n",
    "\n",
    "$$\\frac{1}{a^2} \\nabla^2 \\phi = 4 \\pi G \\rho_u \\delta.$$\n",
    "\n",
    "Here $a$ is the Hubble expansion factor, $\\delta$ the density perturbation\n",
    "\n",
    "$$\\delta + 1 = \\frac{\\rho}{\\rho_u},$$\n",
    "\n",
    "and $\\phi$ is the potential perturbation. Similarly the Euler equation describing Newton's second law can be written in Lagrangian form as\n",
    "\n",
    "$$\\partial_t(a \\vec{v}) \\big|_{q={\\rm cst}} = -\\nabla \\phi.$$\n",
    "\n",
    "Defining $v$ as the comoving velocity $v := a\\dot{x}$. We have two sets of coordinates $q$ and $x$. $q$ being a label on a particle, telling it where it started at time $t = 0$.\n",
    "Then\n",
    "\n",
    "$$x = q + \\int \\frac{v}{a} {\\rm d t}.$$\n",
    "\n",
    "We define a momentum $p := a^2 \\dot{x} = a v$, and rewrite the factor of proportionality\n",
    "\n",
    "$$4 \\pi G \\rho_u = \\frac{3H_0^2 \\Omega_0}{2a^3},$$\n",
    "\n",
    "so that the Poisson equation becomes\n",
    "\n",
    "$$a\\nabla^2 \\phi = \\frac{3}{2} \\Omega_m H_0^2 \\delta,$$\n",
    "\n",
    "and the Euler equation\n",
    "\n",
    "$$\\dot{p} = - \\nabla \\phi.$$\n",
    "\n",
    "To this we add the Friedman equation that describes the evolution of the expansion factor\n",
    "\n",
    "$$\\dot{a} = H_0 a \\sqrt{\\Omega_{\\Lambda} + \\Omega_{m} a^{-3} + (1 - \\Omega) a^{-2}}.$$\n",
    "\n",
    "Note that all time dependence in these equations is in the expansion factor $a(t)$, so we may express all time derivatives in terms of $a$.\n",
    "\n",
    "$$\\dot{x} = \\frac{p}{a^2}\\quad \\to \\quad \\partial_a x = \\frac{p}{a^2 \\dot{a}}$$\n",
    "$$\\dot{p} = -\\nabla \\phi \\quad \\to \\quad \\partial_a p = - \\frac{\\nabla \\phi}{\\dot{a}}$$\n",
    "\n",
    "This means we do not need to solve the Friedman equation explicitly. Rather we use $a$ as integration variable and use the Friedman equation to determine the relevant derivative $\\dot{a}$."
   ]
  },
  {
   "cell_type": "markdown",
   "metadata": {},
   "source": [
    "Initial conditions\n",
    "===\n",
    "\n",
    "To make interesting initial conditions, I take a power spectrum of $P(k) = k^{-1/2}$ with a Gaussian smoothing."
   ]
  },
  {
   "cell_type": "code",
   "execution_count": 14,
   "metadata": {},
   "outputs": [
    {
     "data": {
      "image/png": "[encoded data removed]",
      "text/plain": [
       "<IPython.core.display.Image object>"
      ]
     },
     "metadata": {},
     "output_type": "display_data"
    },
    {
     "data": {
      "text/plain": [
       "0.87064168302108125"
      ]
     },
     "execution_count": 14,
     "metadata": {},
     "output_type": "execute_result"
    }
   ],
   "source": [
    "import cft\n",
    "import numpy as np\n",
    "from numpy import fft, random\n",
    "import gnuplot as gp\n",
    "import os\n",
    "\n",
    "N = 128\n",
    "B_m = cft.Box(2, N, 50.0)\n",
    "A = 40\n",
    "seed = 6\n",
    "Power_spectrum = cft.Power_law(0) * cft.Scale(B_m, 0.0) * cft.Cutoff(B_m)\n",
    "phi = cft.garfield(B_m, Power_spectrum, cft.Potential(), seed) * A\n",
    "rho = cft.garfield(B_m, Power_spectrum, cft.Scale(B_m, 5.0), seed) * A\n",
    "\n",
    "gp.plot(\"set xrange [0:{0}] ; set yrange [0:{0}]\".format(B_m.N),\n",
    "        gp.plot_data(gp.array(rho.T, 'w image')))\n",
    "\n",
    "rho.std()"
   ]
  },
  {
   "cell_type": "markdown",
   "metadata": {},
   "source": [
    "Cosmology\n",
    "===\n",
    "\n",
    "The background cosmology is embodied by the Friedman equation\n",
    "\n",
    "$$\\dot{a} = H_0 a \\sqrt{\\Omega_{\\Lambda} + \\Omega_{m} a^{-3} + (1 - \\Omega) a^{-2}}.$$\n",
    "\n",
    "The class `Cosmology` is a function object returning the value of $\\dot{a}$ as a function of $a$.\n",
    "Later on we will need the _growing mode_ solution for this universe.\n",
    "\n",
    "$$D(t) = H(t) \\int_0^t \\frac{{\\rm d} t'}{a(t')^2 H(t')^2}$$\n",
    "\n",
    "We'd like to do the integration in terms of $a$, substituting ${\\rm d}t = {\\rm d}a/\\dot{a}$.\n",
    "\n",
    "$$D(a) = \\frac{\\dot{a}}{a} \\int_0^a \\frac{{\\rm d}a}{\\dot{a}^3}$$"
   ]
  },
  {
   "cell_type": "code",
   "execution_count": 15,
   "metadata": {},
   "outputs": [],
   "source": [
    "from scipy.integrate import quad\n",
    "\n",
    "class Cosmology:\n",
    "    \"\"\"This object stores all relevant information wrt the background\n",
    "    cosmology, parametrized by OmegaM, OmegaL and H0.\"\"\"\n",
    "    def __init__(self, H0, OmegaM, OmegaL):\n",
    "        self.H0 = H0\n",
    "        self.OmegaM = OmegaM\n",
    "        self.OmegaL = OmegaL\n",
    "        self.OmegaK = 1 - OmegaM - OmegaL\n",
    "        self.grav_cst = 3./2 * OmegaM * H0**2\n",
    "        self.factor = self._growing_mode_norm()\n",
    "\n",
    "    def adot(self, a):\n",
    "        return self.H0 * a * np.sqrt(self.OmegaL \\\n",
    "                + self.OmegaM * a**-3 \\\n",
    "                + self.OmegaK * a**-2)\n",
    "    \n",
    "    def _growing_mode_norm(self):\n",
    "        \"\"\"result D(1) = 1. d/d0 + 0.001 = 1\"\"\"\n",
    "        d = self.adot(1) * quad(lambda b: self.adot(b)**(-3), 0.00001, 1)[0]\n",
    "        return 0.99999/d\n",
    "\n",
    "    def growing_mode(self, a):\n",
    "        if isinstance(a, np.ndarray):\n",
    "            return np.array([self.growing_mode(b) for b in a])\n",
    "        elif a <= 0.001:\n",
    "            return a\n",
    "        else:\n",
    "            return self.factor * self.adot(a)/a * quad(lambda b: self.adot(b)**(-3), 0.00001, a)[0] + 0.00001\n",
    "    \n",
    "    def __call__(self, a):\n",
    "        return self.adot(a)\n",
    "\n",
    "LCDM = Cosmology(68.0, 0.31, 0.69)\n",
    "EdS = Cosmology(70.0, 1.0, 0.0)"
   ]
  },
  {
   "cell_type": "markdown",
   "metadata": {},
   "source": [
    "This approach only works if the Universe keeps expanding."
   ]
  },
  {
   "cell_type": "markdown",
   "metadata": {},
   "source": [
    "Mass deposition\n",
    "===\n",
    "\n",
    "Proper mass depositions is somewhat of a dark art. The simplest scheme that is widely used goes by the name of _cloud-in-cell_.\n",
    "A particle is seen as a clump of matter, the size of a pixel (the cloud). This matter is then divided over four neighbouring pixels by taking\n",
    "the fractional position within the current pixel (the cell). This can be implemented using the NumPy `histogram2d` function with `weight`."
   ]
  },
  {
   "cell_type": "code",
   "execution_count": 16,
   "metadata": {},
   "outputs": [],
   "source": [
    "def md_cic(B, X):\n",
    "    f  = X - np.floor(X)\n",
    "    \n",
    "    rho = np.zeros(B.shape, dtype='float64')\n",
    "    rho_, x_, y_ = np.histogram2d(X[:,0]%B.N, X[:,1]%B.N, bins=B.shape, \n",
    "                        range=[[0, B.N], [0, B.N]], \n",
    "                        weights=(1 - f[:,0])*(1 - f[:,1]))\n",
    "    rho += rho_\n",
    "    rho_, x_, y_ = np.histogram2d((X[:,0]+1)%B.N, X[:,1]%B.N, bins=B.shape, \n",
    "                        range=[[0, B.N], [0, B.N]], \n",
    "                        weights=(f[:,0])*(1 - f[:,1]))\n",
    "    rho += rho_\n",
    "    rho_, x_, y_ = np.histogram2d(X[:,0]%B.N, (X[:,1]+1)%B.N, bins=B.shape, \n",
    "                        range=[[0, B.N], [0, B.N]], \n",
    "                        weights=(1 - f[:,0])*(f[:,1]))\n",
    "    rho += rho_\n",
    "    rho_, x_, y_ = np.histogram2d((X[:,0]+1)%B.N, (X[:,1]+1)%B.N, bins=B.shape, \n",
    "                        range=[[0, B.N], [0, B.N]], \n",
    "                        weights=(f[:,0])*(f[:,1]))\n",
    "    rho += rho_\n",
    "    \n",
    "    return rho"
   ]
  },
  {
   "cell_type": "markdown",
   "metadata": {},
   "source": [
    "Integators\n",
    "===\n",
    "As integrators go, the _leap-frog_ method is both simple and reasonably accurate. It has the nice property that the integration is reversible. In the lore of symplectic integrators this means that energy is conserved."
   ]
  },
  {
   "cell_type": "code",
   "execution_count": 17,
   "metadata": {},
   "outputs": [],
   "source": [
    "class Integrator:\n",
    "    def run(self, a0, da, N):\n",
    "        raise NotImplented\n",
    "\n",
    "class LeapFrog(Integrator):\n",
    "    def __init__(self, solver):\n",
    "        self.solver = solver\n",
    "        \n",
    "    def run(self, a0, da, N):\n",
    "        a = a0\n",
    "        \n",
    "        # the kick is half a step ahead\n",
    "        S = self.solver(a, a + da/2)\n",
    "        for i in range(N):\n",
    "            S.drift(a, da)\n",
    "            S.kick(a+da/2, da)\n",
    "            a += da\n",
    "            \n",
    "        return S"
   ]
  },
  {
   "cell_type": "code",
   "execution_count": 18,
   "metadata": {},
   "outputs": [],
   "source": [
    "class Interp2D:\n",
    "    \"Reasonably fast bilinear interpolation routine\"\n",
    "    def __init__(self, data):\n",
    "        self.data = data\n",
    "        self.shape = data.shape\n",
    "\n",
    "    def __call__(self, x):\n",
    "        X1 = np.floor(x).astype(int) % self.shape\n",
    "        X2 = np.ceil(x).astype(int) % self.shape\n",
    "        xm = x % 1.0\n",
    "        xn = 1.0 - xm\n",
    "\n",
    "        f1 = self.data[X1[:,0], X1[:,1]]\n",
    "        f2 = self.data[X2[:,0], X1[:,1]]\n",
    "        f3 = self.data[X1[:,0], X2[:,1]]\n",
    "        f4 = self.data[X2[:,0], X2[:,1]]\n",
    "\n",
    "        return  f1 * xn[:,0] * xn[:,1] + \\\n",
    "                f2 * xm[:,0] * xn[:,1] + \\\n",
    "                f3 * xn[:,0] * xm[:,1] + \\\n",
    "                f4 * xm[:,0] * xm[:,1]\n",
    "\n",
    "def gradient_2nd_order(F, i):\n",
    "\treturn   1./12 * np.roll(F,  2, axis=i) - 2./3  * np.roll(F,  1, axis=i) \\\n",
    "\t\t\t+ 2./3  * np.roll(F, -1, axis=i) - 1./12 * np.roll(F, -2, axis=i)"
   ]
  },
  {
   "cell_type": "markdown",
   "metadata": {},
   "source": [
    "Gravity\n",
    "===\n",
    "\n",
    "Gravity is a three-dimensional phenomenon. We take a leap of faith that we may use the same equations in 2D and the results will be similar to a slice from a 3D simulation. To do this properly, we would need to proof that this is identical to simulating an inifinite stack of copies of the 2D universe. The force should go as $1/r$ and the corresponding potential as $\\log(r)$.\n",
    "\n",
    "The previously described Leap-frog integrator needs a solver class to provide it with a _drift_ and _kick_ operator. The drift is simply translating the particles by the appropriate amount following $\\partial_a x = p/(a^2 \\dot{a})$. The kick is a bit more complicated. It needs to find the gravitational potential that each particle feels to get the proper acceleration. To this end we first compute $\\delta$, by using the CIC mass deposition. Then we use Fourier space to compute the appropriate potential. The gradient of this potential is evaluated in real space using a second order scheme, and linear interpolation to get approximate values at the particle positions."
   ]
  },
  {
   "cell_type": "code",
   "execution_count": 19,
   "metadata": {},
   "outputs": [],
   "source": [
    "def a2r(B, X):\n",
    "    return X.transpose([1,2,0]).reshape([B.N**2, 2])\n",
    "\n",
    "def r2a(B, x):\n",
    "    return x.reshape([B.N, B.N, 2]).transpose([2,0,1])\n",
    "\n",
    "class Solver:\n",
    "    def __init__(self, B, m, C, X, P):\n",
    "        self.B = B\n",
    "        self.C = C\n",
    "        self.X = X\n",
    "        self.P = P\n",
    "        self.m = m\n",
    "        \n",
    "        self.g = gp.Gnuplot(persist=True)\n",
    "        self.g(\"set cbrange [0.2:50]\", \"set log cb\", \"set size square\",\n",
    "               \"set xrange [0:{0}] ; set yrange [0:{0}]\".format(B.N))\n",
    "        \n",
    "    def drift(self, a, da):\n",
    "        adot = self.C(a)\n",
    "        self.X += da * self.P / (a**2 * adot)\n",
    "        \n",
    "    def kick(self, a, da):\n",
    "        adot  = self.C(a)\n",
    "        x = self.X/self.B.res\n",
    "        delta = md_cic(self.B, x) * self.m - 1.0\n",
    "        self.g(gp.plot_data(gp.array(delta.T+1, \"t'' w image\")))\n",
    "        fn = 'data/x.{0:05d}.npy'.format(int(round(a*1000)))\n",
    "        np.save(fn, self.X)\n",
    "        \n",
    "        phi   = fft.ifftn(fft.fftn(delta) * cft.Potential()(self.B.K)).real * self.C.grav_cst / a\n",
    "        \n",
    "        acc_x = Interp2D(gradient_2nd_order(phi, 0))\n",
    "        acc_y = Interp2D(gradient_2nd_order(phi, 1))\n",
    "        acc = np.c_[acc_x(x), acc_y(x)] / self.B.res\n",
    "        \n",
    "        self.P -= da * acc / adot"
   ]
  },
  {
   "cell_type": "markdown",
   "metadata": {},
   "source": [
    "To create good initial conditions from the initial potential we have to use Zeldovich approximation. At the same time we may use this class as a factory for setting up the rest of the simulation; this means providing the solver with proper box sizes and cosmology. The Leap-frog integrator needs the velocity at a different time than the particle positions (half a time-step difference). So the `Zeldovich` class provides functionality to do just that. In the particle velocity there's no difference, but the momentum does factor in the expansion factor.\n",
    "\n",
    "The `Zeldovich` class takes two box arguments. One is the _mass box_, the other the _force box_. To prevent aliasing in the voids it is important to have the force box twice the size of the mass box."
   ]
  },
  {
   "cell_type": "code",
   "execution_count": 20,
   "metadata": {},
   "outputs": [],
   "source": [
    "class Zeldovich:\n",
    "    def __init__(self, B_mass, B_force, C, phi):\n",
    "        self.bm = B_mass\n",
    "        self.bf = B_force\n",
    "        self.C  = C\n",
    "        \n",
    "        self.u = np.array([-gradient_2nd_order(phi, 0), \n",
    "                           -gradient_2nd_order(phi, 1)]) / self.bm.res\n",
    "        \n",
    "    def __call__(self, a_pos, a_vel = None):\n",
    "        if a_vel == None: \n",
    "            a_vel = a_pos\n",
    "        \n",
    "        X = a2r(self.bm, np.indices(self.bm.shape) * self.bm.res + a_pos * self.u)\n",
    "        P = a2r(self.bm, a_vel * self.u)\n",
    "        \n",
    "        # particle mass\n",
    "        m = (self.bf.N / self.bm.N)**self.bm.dim\n",
    "        \n",
    "        return Solver(self.bf, m, self.C, X, P)"
   ]
  },
  {
   "cell_type": "markdown",
   "metadata": {},
   "source": [
    "Running the code\n",
    "===="
   ]
  },
  {
   "cell_type": "code",
   "execution_count": 21,
   "metadata": {},
   "outputs": [],
   "source": [
    "import gnuplot as gp\n",
    "za = Zeldovich(B_m, cft.Box(2, N*2, B_m.L), EdS, phi)\n",
    "S = LeapFrog(za).run(0.02, 0.02, 50)"
   ]
  }
 ],
 "metadata": {
  "kernelspec": {
   "display_name": "Python 3",
   "language": "python",
   "name": "python3"
  },
  "language_info": {
   "codemirror_mode": {
    "name": "ipython",
    "version": 3
   },
   "file_extension": ".py",
   "mimetype": "text/x-python",
   "name": "python",
   "nbconvert_exporter": "python",
   "pygments_lexer": "ipython3",
   "version": "3.6.1"
  }
 },
 "nbformat": 4,
 "nbformat_minor": 1
}
