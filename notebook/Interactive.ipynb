{
 "cells": [
  {
   "cell_type": "code",
   "execution_count": 22,
   "metadata": {},
   "outputs": [],
   "source": [
    "import ipyvolume\n",
    "from matplotlib import pyplot as plt\n",
    "from ipywidgets import interactive\n",
    "import ipyvolume as ipv"
   ]
  },
  {
   "cell_type": "code",
   "execution_count": 23,
   "metadata": {},
   "outputs": [],
   "source": [
    "plt.rcParams['figure.figsize'] = (14, 10)\n",
    "plt.rcParams['font.size'] = 14\n",
    "plt.rcParams['lines.solid_capstyle'] = 'round'"
   ]
  },
  {
   "cell_type": "code",
   "execution_count": 24,
   "metadata": {},
   "outputs": [],
   "source": [
    "import numpy as np\n",
    "import cft\n",
    "import adhesion\n",
    "from adhesion import (\n",
    "    get_convex_hull, plot_image,\n",
    "    plot_regular_triangulation, plot_power_diagram)\n",
    "\n",
    "xlim = None\n",
    "ylim = None"
   ]
  },
  {
   "cell_type": "markdown",
   "metadata": {},
   "source": [
    "## A universe in a box"
   ]
  },
  {
   "cell_type": "code",
   "execution_count": 25,
   "metadata": {},
   "outputs": [
    {
     "data": {
      "image/png": "[encoded data removed]",
      "text/plain": [
       "<Figure size 1008x720 with 2 Axes>"
      ]
     },
     "metadata": {},
     "output_type": "display_data"
    }
   ],
   "source": [
    "# Create a box\n",
    "box = cft.Box(dim=2, N=32, L=25.)\n",
    "\n",
    "def get_potential(n_P):\n",
    "    # Specify the power spectrum\n",
    "    P = cft.Power_law(n=n_P) * cft.Scale(box, 0.5)\n",
    "\n",
    "    # Create initial density perturbations\n",
    "    delta_0 = cft.garfield(B=box, P=P, seed=420)\n",
    "\n",
    "    # Normalize (typical collapse time at D=1)\n",
    "    delta_0 /= delta_0.std()\n",
    "\n",
    "    # Compute the potential\n",
    "    pot_0 = np.fft.ifftn(np.fft.fftn(delta_0) * cft.Potential()(box.K)).real\n",
    "    \n",
    "    return delta_0, pot_0\n",
    "\n",
    "delta_0, pot_0 = get_potential(-0.5)\n",
    "fig, axes = plt.subplots(1, 2)\n",
    "plot_image(box, delta_0, title='$\\delta_0$', ax=axes[0])\n",
    "plot_image(box, pot_0, title='$\\Phi_0$', ax=axes[1])\n",
    "plt.show()"
   ]
  },
  {
   "cell_type": "markdown",
   "metadata": {},
   "source": [
    "## Lifting vertices\n",
    "\n",
    "\\begin{equation}\n",
    "v_i = \\begin{pmatrix} x({\\bf q}_i) \\\\ y({\\bf q}_i) \\\\ \\vdots \\\\ {\\bf q}_i^2 - 2 D \\Phi({\\bf q}_i) \\end{pmatrix}\n",
    "\\end{equation}"
   ]
  },
  {
   "cell_type": "code",
   "execution_count": 26,
   "metadata": {},
   "outputs": [
    {
     "data": {
      "application/vnd.jupyter.widget-view+json": {
       "model_id": "5f320afb75b94bf2a81202f81350dd9b",
       "version_major": 2,
       "version_minor": 0
      },
      "text/plain": [
       "VBox(children=(Figure(camera_center=[0.0, 0.0, 0.0], matrix_projection=[0.0, 0.0, 0.0, 0.0, 0.0, 0.0, 0.0, 0.0…"
      ]
     },
     "metadata": {},
     "output_type": "display_data"
    }
   ],
   "source": [
    "def lagrangian_vertices(box, pot, D):\n",
    "    \"\"\"Get a grid of vertices as described in `box` and lift them to the\n",
    "    given potential `pot` at time `t`.\"\"\"\n",
    "    q = np.indices(box.shape) * box.L/box.N - box.L/2\n",
    "    z = np.sum(q**2, axis=0) - 2 * D * pot\n",
    "    return np.concatenate([q, np.expand_dims(z, 0)], 0).reshape(box.dim+1, -1).T\n",
    "\n",
    "ipv.clear()\n",
    "fig = ipv.figure(width=400, height=400)\n",
    "\n",
    "v = lagrangian_vertices(box, pot_0, 3.0)\n",
    "s = ipv.scatter(v[:, 0], v[:, 1], v[:, 2], marker='sphere', size=0.8)\n",
    "ipv.show()\n",
    "ipv.view(azimuth=30, elevation=90)"
   ]
  },
  {
   "cell_type": "code",
   "execution_count": 27,
   "metadata": {},
   "outputs": [],
   "source": [
    "ch, selection, valid = get_convex_hull(box, pot_0, 3.0)\n",
    "edges = adhesion.delaunay_edges(box, ch, selection, valid)\n",
    "edges = edges.astype(np.uint32)\n",
    "points = ch.points\n",
    "\n",
    "m = ipv.pylab.plot_trisurf(points[:,0], points[:,1], points[:,2], lines=edges, color='black')"
   ]
  },
  {
   "cell_type": "code",
   "execution_count": 28,
   "metadata": {},
   "outputs": [],
   "source": [
    "s.z = -pot_0.flatten() * 40 + 150\n",
    "m.z = -pot_0.flatten() * 40 + 150"
   ]
  },
  {
   "cell_type": "markdown",
   "metadata": {},
   "source": [
    "## Come all ye structures"
   ]
  },
  {
   "cell_type": "code",
   "execution_count": 29,
   "metadata": {},
   "outputs": [],
   "source": [
    "def plot_dual(t, n_P):\n",
    "    density_0, pot_0 = get_potential(n_P)\n",
    "    \n",
    "    # Get the Convex Hull\n",
    "    ch, selection, valid = get_convex_hull(box, pot_0, t)\n",
    "    \n",
    "    # Plot the result\n",
    "    fig, axes = plt.subplots(1, 2, subplot_kw={'aspect': 1})\n",
    "    plot_regular_triangulation(ch, selection, xlim, ylim, ax=axes[0])\n",
    "    plot_power_diagram(box, ch, valid, xlim, ylim, point_scale=10, ax=axes[1])\n",
    "    plt.show()"
   ]
  },
  {
   "cell_type": "code",
   "execution_count": 30,
   "metadata": {},
   "outputs": [
    {
     "data": {
      "application/vnd.jupyter.widget-view+json": {
       "model_id": "af392bb61f2b4a92a5fd4382f1e76aad",
       "version_major": 2,
       "version_minor": 0
      },
      "text/plain": [
       "interactive(children=(FloatSlider(value=2.5, description='D', max=5.0), FloatSlider(value=1.0, description='n_…"
      ]
     },
     "metadata": {},
     "output_type": "display_data"
    }
   ],
   "source": [
    "interactive_plot = interactive(\n",
    "    plot_dual, t=(0.0, 5.0, 0.1), n_P=(-2.0, 4.0, 0.25))\n",
    "output = interactive_plot.children[-1]\n",
    "output.layout.height = '500px'\n",
    "interactive_plot.children[0].description = 'D'\n",
    "interactive_plot"
   ]
  },
  {
   "cell_type": "code",
   "execution_count": null,
   "metadata": {},
   "outputs": [],
   "source": []
  }
 ],
 "metadata": {
  "kernelspec": {
   "display_name": "Python 3",
   "language": "python",
   "name": "python3"
  },
  "language_info": {
   "codemirror_mode": {
    "name": "ipython",
    "version": 3
   },
   "file_extension": ".py",
   "mimetype": "text/x-python",
   "name": "python",
   "nbconvert_exporter": "python",
   "pygments_lexer": "ipython3",
   "version": "3.6.5rc1"
  }
 },
 "nbformat": 4,
 "nbformat_minor": 2
}
